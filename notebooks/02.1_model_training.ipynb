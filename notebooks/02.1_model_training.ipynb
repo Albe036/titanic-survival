{
 "cells": [
  {
   "cell_type": "code",
   "execution_count": 33,
   "id": "77745097",
   "metadata": {},
   "outputs": [],
   "source": [
    "\n",
    "import pandas as pd\n",
    "import numpy as np\n",
    "from sklearn.model_selection import train_test_split\n",
    "from sklearn.ensemble import RandomForestClassifier\n",
    "from sklearn.metrics import accuracy_score, confusion_matrix, classification_report\n",
    "from sklearn.model_selection import GridSearchCV\n",
    "import matplotlib.pyplot as plt\n",
    "import seaborn as sns"
   ]
  },
  {
   "cell_type": "code",
   "execution_count": 34,
   "id": "4656cce6",
   "metadata": {},
   "outputs": [],
   "source": [
    "df_train = pd.read_csv('../data/processed/train_processed.csv')\n",
    "df_test = pd.read_csv ('../data/processed/test_processed.csv')"
   ]
  },
  {
   "cell_type": "code",
   "execution_count": 35,
   "id": "6ffef5ba",
   "metadata": {},
   "outputs": [],
   "source": [
    "params_grid = {\n",
    "    'n_estimators': [50, 100, 200],\n",
    "    'max_depth': [None, 10, 20],\n",
    "    'min_samples_split': [2, 5, 10],\n",
    "    'min_samples_leaf': [1, 2, 4],\n",
    "    'max_features': ['sqrt', 'log2']\n",
    "}"
   ]
  },
  {
   "cell_type": "code",
   "execution_count": 36,
   "id": "96661ea7",
   "metadata": {},
   "outputs": [
    {
     "name": "stdout",
     "output_type": "stream",
     "text": [
      "Fitting 5 folds for each of 162 candidates, totalling 810 fits\n",
      "\n",
      "Mejores parámetros encontrados por GridSearchCV:\n",
      "{'max_depth': 10, 'max_features': 'sqrt', 'min_samples_leaf': 1, 'min_samples_split': 5, 'n_estimators': 50}\n",
      "Mejor Accuracy en CV: 0.8357\n",
      "\n",
      "El mejor modelo ya ha sido re-entrenado con los mejores parámetros en todo X_train.\n",
      "\n",
      "Evaluando el MEJOR modelo en el conjunto de validación (X_val):\n",
      "Accuracy del MEJOR modelo en X_val: 0.8101\n",
      "\n",
      "Matriz de Confusión del MEJOR Modelo:\n",
      "[[94 16]\n",
      " [18 51]]\n",
      "\n",
      "Reporte de Clasificación del MEJOR Modelo:\n",
      "                  precision    recall  f1-score   support\n",
      "\n",
      "No Sobrevive (0)       0.84      0.85      0.85       110\n",
      "   Sobrevive (1)       0.76      0.74      0.75        69\n",
      "\n",
      "        accuracy                           0.81       179\n",
      "       macro avg       0.80      0.80      0.80       179\n",
      "    weighted avg       0.81      0.81      0.81       179\n",
      "\n"
     ]
    }
   ],
   "source": [
    "X = df_train.drop(['Survived', 'PassengerId'], axis=1)\n",
    "y = df_train['Survived'].copy()\n",
    "pass_ids_df_test = df_test['PassengerId'].copy()\n",
    "X_test_final = df_test.drop(['PassengerId'], axis=1)\n",
    "\n",
    "X_train, X_val, y_train, y_val = train_test_split(X, y, test_size=0.2, random_state=42, stratify=y)\n",
    "model = RandomForestClassifier(random_state=42)\n",
    "#model.fit(X_train, y_train)\n",
    "\n",
    "grid_search = GridSearchCV(estimator=model, param_grid=params_grid,cv=5, scoring='accuracy', n_jobs=-1, verbose=2)\n",
    "grid_search.fit(X_train, y_train)\n",
    "\n",
    "\n",
    "print(\"\\nMejores parámetros encontrados por GridSearchCV:\")\n",
    "print(grid_search.best_params_)\n",
    "\n",
    "print(f\"Mejor Accuracy en CV: {grid_search.best_score_:.4f}\")\n",
    "\n",
    "# Obtener el mejor modelo entrenado\n",
    "best_model = grid_search.best_estimator_\n",
    "print(\"\\nEl mejor modelo ya ha sido re-entrenado con los mejores parámetros en todo X_train.\")\n",
    "\n",
    "# Ahora, evalúa este best_model en el conjunto de validación (X_val, y_val)\n",
    "print(\"\\nEvaluando el MEJOR modelo en el conjunto de validación (X_val):\")\n",
    "y_pred_best = best_model.predict(X_val)\n",
    "accuracy_best = accuracy_score(y_val, y_pred_best)\n",
    "print(f\"Accuracy del MEJOR modelo en X_val: {accuracy_best:.4f}\")\n",
    "\n",
    "# Opcional: Mostrar Matriz de Confusión y Reporte de Clasificación para el mejor modelo\n",
    "print(\"\\nMatriz de Confusión del MEJOR Modelo:\")\n",
    "print(confusion_matrix(y_val, y_pred_best))\n",
    "\n",
    "print(\"\\nReporte de Clasificación del MEJOR Modelo:\")\n",
    "print(classification_report(y_val, y_pred_best, target_names=['No Sobrevive (0)', 'Sobrevive (1)']))"
   ]
  }
 ],
 "metadata": {
  "kernelspec": {
   "display_name": "titanic-survival",
   "language": "python",
   "name": "python3"
  },
  "language_info": {
   "codemirror_mode": {
    "name": "ipython",
    "version": 3
   },
   "file_extension": ".py",
   "mimetype": "text/x-python",
   "name": "python",
   "nbconvert_exporter": "python",
   "pygments_lexer": "ipython3",
   "version": "3.12.7"
  }
 },
 "nbformat": 4,
 "nbformat_minor": 5
}
