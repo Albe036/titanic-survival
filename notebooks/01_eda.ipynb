{
 "cells": [
  {
   "cell_type": "code",
   "execution_count": 162,
   "id": "4c084b3a",
   "metadata": {},
   "outputs": [],
   "source": [
    "import pandas as pd\n",
    "import numpy as np\n",
    "import matplotlib.pyplot as plt\n",
    "import seaborn as sns\n",
    "import re\n",
    "import warnings\n",
    "\n",
    "warnings.filterwarnings(\"ignore\", category=RuntimeWarning)"
   ]
  },
  {
   "cell_type": "markdown",
   "id": "1411fd4e",
   "metadata": {},
   "source": [
    "**Predecir la supervivencia o no de los pasajeros**\n",
    "\n",
    "* Tipo de Prediccion:\n",
    "    * Clasificacion binaria\n",
    "* Matrica principal:\n",
    "    * Precision (Acurrancy)\n",
    "\n",
    "\n",
    "**Features**\n",
    "| Variable  | Definición                                            | Key                                      |\n",
    "|-----------|--------------------------------------------------------|------------------------------------------|\n",
    "| survival  | Supervivencia                                          | 0 = No, 1 = Sí                            |\n",
    "| pclass    | Clase del boleto                                       | 1 = 1ra, 2 = 2da, 3 = 3ra                 |\n",
    "| sex       | Sexo                                                   | (No aplica: valores tipo texto: male/female) |\n",
    "| age       | Edad en años                                           | (Valores numéricos)                      |\n",
    "| sibsp     | Nº de hermanos/esposos a bordo                         | (Valores numéricos)                      |\n",
    "| parch     | Nº de padres/hijos a bordo                             | (Valores numéricos)                      |\n",
    "| ticket    | Número del boleto                                      | (Texto o numérico)                       |\n",
    "| fare      | Tarifa del pasajero                                    | (Valores numéricos)                      |\n",
    "| cabin     | Número de camarote                                     | (Texto: puede estar vacío)              |\n",
    "| embarked  | Puerto de embarque                                     | C = Cherbourg, Q = Queenstown, S = Southampton |\n",
    "\n",
    "  \n",
    "\n",
    "| Variable | Definición                                                                 | Valores / Claves                                  | Observaciones                                                                 |\n",
    "|----------|-----------------------------------------------------------------------------|---------------------------------------------------|--------------------------------------------------------------------------------|\n",
    "| pclass   | Clase del boleto como aproximación al estatus socioeconómico (SES)         | 1 = Superior, 2 = Medio, 3 = Inferior              | Útil como proxy de riqueza y acceso                                           |\n",
    "| age      | Edad del pasajero                                                          | Fraccionaria si < 1, estimada como xx.5           | Edad puede no ser exacta; niños <1 representados con decimales                |\n",
    "| sibsp    | Nº de hermanos/esposos a bordo                                              | Numérico                                           | Sibling = hermano/a o hermanastro/a, Spouse = esposo/a; no incluye prometidos |\n",
    "| parch    | Nº de padres/hijos a bordo                                                  | Numérico                                           | Parent = madre/padre, Child = hijo/a o hijastro/a; niñeras no se cuentan      |"
   ]
  },
  {
   "cell_type": "code",
   "execution_count": 163,
   "id": "038e9c1e",
   "metadata": {},
   "outputs": [],
   "source": [
    "# Configuración para visualizar todos los columnas/filas\n",
    "pd.set_option('display.max_columns', None)\n",
    "pd.set_option('display.max_rows', None)\n",
    "\n",
    "# Configuración para gráficos\n",
    "sns.set_style('whitegrid')\n",
    "plt.style.use('seaborn-v0_8-darkgrid')"
   ]
  },
  {
   "cell_type": "code",
   "execution_count": 164,
   "id": "10809e34",
   "metadata": {},
   "outputs": [
    {
     "name": "stdout",
     "output_type": "stream",
     "text": [
      "Data loaded\n"
     ]
    }
   ],
   "source": [
    "#Cargar los datos\n",
    "train_df = pd.read_csv('../data/raw/train.csv')\n",
    "test_df = pd.read_csv('../data/raw/test.csv')\n",
    "print('Data loaded')"
   ]
  },
  {
   "cell_type": "markdown",
   "id": "e0e0b40a",
   "metadata": {},
   "source": [
    "**Variable: Título (Ordinal Encoding)\n",
    "La variable Título se codificará usando Ordinal Encoding para asignar valores numéricos que reflejen una jerarquía de estatus.**\n",
    "\n",
    "Prioridad 3 -> (Estatus Alto): Countess, Lady\n",
    "\n",
    "Prioridad 2 -> (Mujeres y Niños): Miss, Mrs., Mme, Mlle, Ms., Master\n",
    "\n",
    "Prioridad 1 -> (Títulos Profesionales/Militares): Dr., Rev., Col., Capt., Sir, Major, Don\n",
    "\n",
    "Prioridad 0 -> (Hombre Joven/Señor): Mr., Jonkheer"
   ]
  },
  {
   "cell_type": "code",
   "execution_count": 165,
   "id": "cc0d5da4",
   "metadata": {},
   "outputs": [
    {
     "name": "stdout",
     "output_type": "stream",
     "text": [
      "<class 'pandas.core.frame.DataFrame'>\n",
      "RangeIndex: 1309 entries, 0 to 1308\n",
      "Data columns (total 11 columns):\n",
      " #   Column       Non-Null Count  Dtype  \n",
      "---  ------       --------------  -----  \n",
      " 0   PassengerId  1309 non-null   int64  \n",
      " 1   Pclass       1309 non-null   int64  \n",
      " 2   Name         1309 non-null   object \n",
      " 3   Sex          1309 non-null   object \n",
      " 4   Age          1046 non-null   float64\n",
      " 5   SibSp        1309 non-null   int64  \n",
      " 6   Parch        1309 non-null   int64  \n",
      " 7   Ticket       1309 non-null   object \n",
      " 8   Fare         1308 non-null   float64\n",
      " 9   Cabin        295 non-null    object \n",
      " 10  Embarked     1307 non-null   object \n",
      "dtypes: float64(2), int64(4), object(5)\n",
      "memory usage: 112.6+ KB\n"
     ]
    }
   ],
   "source": [
    "#Combined test and train\n",
    "df_train_target = train_df['Survived']\n",
    "df_train_test = pd.concat([train_df.drop('Survived', axis=1), test_df], ignore_index=True)\n",
    "df_train_test.info()"
   ]
  },
  {
   "cell_type": "code",
   "execution_count": 166,
   "id": "c157d6cf",
   "metadata": {},
   "outputs": [
    {
     "name": "stdout",
     "output_type": "stream",
     "text": [
      "Embarked feature imputed\n",
      "Fare feature imputed\n",
      "Cabin feature imputed\n"
     ]
    }
   ],
   "source": [
    "#Valores faltantes de puerto de embarque, se imputara con la moda\n",
    "df_train_test['Embarked'] = df_train_test['Embarked'].fillna(df_train_test['Embarked'].mode()[0])\n",
    "pd.unique(df_train_test['Embarked'])\n",
    "#Valores faltantes en tarifa, se imputaran con la media\n",
    "df_train_test['Fare'] = df_train_test['Fare'].fillna(df_train_test['Fare'].median())\n",
    "#Imputar valores faltantes de feature Cabin\n",
    "#Rellenar valores faltantes con la categoria \"Unknown\"\n",
    "#Crear una feature \"Deck\" para obtener la inicia de la cubierta\n",
    "df_train_test['Cabin'] = df_train_test['Cabin'].fillna(\"Unknown\")\n",
    "df_train_test[\"Deck\"] = df_train_test['Cabin'].transform(lambda x: x[0])\n",
    "df_train_test = df_train_test.drop('Cabin', axis=1)\n",
    "print('Embarked feature imputed')\n",
    "print('Fare feature imputed')\n",
    "print('Cabin feature imputed')"
   ]
  },
  {
   "cell_type": "code",
   "execution_count": 167,
   "id": "bbb45e5c",
   "metadata": {},
   "outputs": [
    {
     "name": "stdout",
     "output_type": "stream",
     "text": [
      "Titulos dentro del dataFrame: \n",
      "['Mr' 'Mrs' 'Miss' 'Master' 'Don' 'Rev' 'Dr' 'Mme' 'Ms' 'Major' 'Lady'\n",
      " 'Sir' 'Mlle' 'Col' 'Capt' 'Countess' 'Jonkheer' 'Dona']\n",
      "18\n"
     ]
    }
   ],
   "source": [
    "def filter_title(name = \"\"):\n",
    "    title_result = re.search(' ([A-Za-z]+)\\\\.', name)\n",
    "    if title_result:\n",
    "        return title_result.group(1)\n",
    "    return \"\"\n",
    "\n",
    "result = pd.unique(df_train_test['Name'].apply(filter_title))\n",
    "print('Titulos dentro del dataFrame: ')\n",
    "print(result)\n",
    "print(len(result))"
   ]
  },
  {
   "cell_type": "code",
   "execution_count": 168,
   "id": "66a438c9",
   "metadata": {},
   "outputs": [
    {
     "name": "stdout",
     "output_type": "stream",
     "text": [
      "Title Generated\n"
     ]
    }
   ],
   "source": [
    "#Crear nueva feature \"Title\"\n",
    "def generate_title_ordenc(title):\n",
    "    if title in ('Countess', 'Lady', 'Jonkheer'):\n",
    "        return 3\n",
    "    elif title in ('Miss', 'Mrs', 'Mme', 'Mlle', 'Ms', 'Master', 'Dona'):\n",
    "        return 2\n",
    "    elif title in ('Dr', 'Rev', 'Col', 'Capt', 'Sir', 'Major', 'Don'):\n",
    "        return 1\n",
    "    return 0 #('Mr')\n",
    "\n",
    "df_train_test['Title'] = df_train_test['Name'].apply(filter_title)\n",
    "df_train_test = df_train_test.drop(['Name'], axis=1)\n",
    "print('Title Generated')"
   ]
  },
  {
   "cell_type": "code",
   "execution_count": 169,
   "id": "d8cf36e2",
   "metadata": {},
   "outputs": [],
   "source": [
    "#Pclass, Aplicaremos tambien una conversion de categoria: Ordinal encoding dato mas importancia a la primera clase\n",
    "# 1ra clase -> 2, 2da clase -> 1, 3ra clase -> 0\n",
    "def generate_class_ordenc(class_):\n",
    "    if class_ == 1:\n",
    "        return 2\n",
    "    elif class_ == 2:\n",
    "        return 1\n",
    "    return 0\n",
    "df_train_test['Pclass'] = df_train_test['Pclass'].apply(generate_class_ordenc)"
   ]
  },
  {
   "cell_type": "code",
   "execution_count": 170,
   "id": "665efa44",
   "metadata": {},
   "outputs": [
    {
     "name": "stdout",
     "output_type": "stream",
     "text": [
      "Age imputed with median groupby Title, Pclass\n"
     ]
    }
   ],
   "source": [
    "#Basados en el titulo del pasajero y la tarifa que pago se imputaran los valores faltantes de \"Age\"\n",
    "df_train_test['Age'] = df_train_test.groupby(['Title', 'Pclass'])['Age'].transform(lambda x: x.fillna(x.median()))\n",
    "df_train_test['Age'] = df_train_test['Age'].fillna(df_train_test['Age'].median())\n",
    "print('Age imputed with median groupby Title, Pclass')"
   ]
  },
  {
   "cell_type": "code",
   "execution_count": 171,
   "id": "23cc4f72",
   "metadata": {},
   "outputs": [
    {
     "name": "stdout",
     "output_type": "stream",
     "text": [
      "Sex Binaria Simple (0 o 1)\n"
     ]
    }
   ],
   "source": [
    "#Manejo de variable sex\n",
    "#Codificación Binaria Simple (0 o 1)\n",
    "df_train_test['Sex'] = df_train_test['Sex'].map({ 'female': 1, 'male': 0 }).astype(int)\n",
    "print('Sex Binaria Simple (0 o 1)')"
   ]
  },
  {
   "cell_type": "code",
   "execution_count": 172,
   "id": "4713520f",
   "metadata": {},
   "outputs": [],
   "source": [
    "#Conversion de variables categoricas\n",
    "#Conversion de SibSp y Parch\n",
    "df_train_test['Family_Size'] = df_train_test['SibSp'] + df_train_test['Parch'] + 1\n",
    "df_train_test = df_train_test.drop(['SibSp', 'Parch'], axis=1)\n",
    "df_train_test['Is_Alone'] = (df_train_test['Family_Size'] == 1).astype(int)\n",
    "#Manejar Ticket como feature binaria (AGENCIA, PARTICULAR)\n",
    "def filter_prefix(ticket):\n",
    "    match = re.match(r'([A-Za-z\\./]+)', ticket)\n",
    "    if match:\n",
    "        prefix = match.group(1).replace('.', '').replace('/', '').upper()\n",
    "        return prefix\n",
    "    return 'NoAgency'\n",
    "df_train_test['Ticket_Agency'] = df_train_test['Ticket'].apply(filter_prefix)\n",
    "ticket_counts = df_train_test['Ticket'].value_counts()  \n",
    "df_train_test['Ticket_Count'] = df_train_test['Ticket'].map(ticket_counts)\n",
    "df_train_test = df_train_test.drop('Ticket', axis=1)\n",
    "df_train_test = pd.get_dummies(df_train_test, columns=['Ticket_Agency'], prefix='Ag', drop_first=True, dtype=np.int8)\n",
    "#Conversion de Embarked\n",
    "df_train_test = pd.get_dummies(df_train_test, columns=['Embarked'], prefix='Embarked', drop_first=True, dtype=np.int8)\n",
    "#Conversion de Deck\n",
    "df_train_test = pd.get_dummies(df_train_test, columns=['Deck'], prefix='Deck', drop_first=True, dtype=np.int8)\n",
    "#Conversion Title a numeric\n",
    "df_train_test['Title'] = df_train_test['Title'].apply(generate_title_ordenc)\n"
   ]
  },
  {
   "cell_type": "code",
   "execution_count": 173,
   "id": "93ece6bc",
   "metadata": {},
   "outputs": [],
   "source": [
    "df_train_res = df_train_test.iloc[:len(train_df)].copy()\n",
    "df_test_res = df_train_test.iloc[len(test_df):].copy()\n",
    "df_train_res['Survived'] = df_train_target\n",
    "#Generar nuevos archivos procesados\n",
    "df_train_res.to_csv('../''data/processed/train_processed.csv', index=False)\n",
    "df_test_res.to_csv('../''data/processed/test_processed.csv', index=False)"
   ]
  }
 ],
 "metadata": {
  "kernelspec": {
   "display_name": "titanic-survival",
   "language": "python",
   "name": "python3"
  },
  "language_info": {
   "codemirror_mode": {
    "name": "ipython",
    "version": 3
   },
   "file_extension": ".py",
   "mimetype": "text/x-python",
   "name": "python",
   "nbconvert_exporter": "python",
   "pygments_lexer": "ipython3",
   "version": "3.12.7"
  }
 },
 "nbformat": 4,
 "nbformat_minor": 5
}
