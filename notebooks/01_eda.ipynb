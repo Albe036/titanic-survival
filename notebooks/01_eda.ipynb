{
 "cells": [
  {
   "cell_type": "code",
   "execution_count": 4,
   "id": "4c084b3a",
   "metadata": {},
   "outputs": [],
   "source": [
    "import pandas as pd\n",
    "import numpy as np\n",
    "import matplotlib.pyplot as plt\n",
    "import seaborn as sns"
   ]
  },
  {
   "cell_type": "markdown",
   "id": "1411fd4e",
   "metadata": {},
   "source": [
    "**Predecir la supervivencia o no de los pasajeros**\n",
    "\n",
    "* Tipo de Prediccion:\n",
    "    * Clasificacion binaria\n",
    "* Matrica principal:\n",
    "    * Precision (Acurrancy)\n"
   ]
  },
  {
   "cell_type": "code",
   "execution_count": 7,
   "id": "038e9c1e",
   "metadata": {},
   "outputs": [],
   "source": [
    "# Configuración para visualizar todos los columnas/filas\n",
    "pd.set_option('display.max_columns', None)\n",
    "pd.set_option('display.max_rows', None)\n",
    "\n",
    "# Configuración para gráficos\n",
    "sns.set_style('whitegrid')\n",
    "plt.style.use('seaborn-v0_8-darkgrid')"
   ]
  },
  {
   "cell_type": "code",
   "execution_count": 9,
   "id": "10809e34",
   "metadata": {},
   "outputs": [],
   "source": [
    "#Cargar los datos\n",
    "train_df = pd.read_csv('../data/raw/train.csv')\n",
    "test_df = pd.read_csv('../data/raw/test.csv')"
   ]
  }
 ],
 "metadata": {
  "kernelspec": {
   "display_name": "titanic-survival",
   "language": "python",
   "name": "python3"
  },
  "language_info": {
   "codemirror_mode": {
    "name": "ipython",
    "version": 3
   },
   "file_extension": ".py",
   "mimetype": "text/x-python",
   "name": "python",
   "nbconvert_exporter": "python",
   "pygments_lexer": "ipython3",
   "version": "3.12.7"
  }
 },
 "nbformat": 4,
 "nbformat_minor": 5
}
